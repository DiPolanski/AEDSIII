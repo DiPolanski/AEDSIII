{
  "nbformat": 4,
  "nbformat_minor": 0,
  "metadata": {
    "colab": {
      "provenance": [],
      "mount_file_id": "1L1pazrsc0yReJanNbt1hNBfB7kV2_Wkw",
      "authorship_tag": "ABX9TyMdcuf/kN3k+2OZ4KLY8/DB",
      "include_colab_link": true
    },
    "kernelspec": {
      "name": "python3",
      "display_name": "Python 3"
    },
    "language_info": {
      "name": "python"
    }
  },
  "cells": [
    {
      "cell_type": "markdown",
      "metadata": {
        "id": "view-in-github",
        "colab_type": "text"
      },
      "source": [
        "<a href=\"https://colab.research.google.com/github/DiPolanski/AEDSIII/blob/main/lista07/CNN.ipynb\" target=\"_parent\"><img src=\"https://colab.research.google.com/assets/colab-badge.svg\" alt=\"Open In Colab\"/></a>"
      ]
    },
    {
      "cell_type": "markdown",
      "source": [
        "# **Contrução da rede Neural**\n",
        "\n",
        "\n"
      ],
      "metadata": {
        "id": "uRQgnLh7Tucq"
      }
    },
    {
      "cell_type": "code",
      "execution_count": 60,
      "metadata": {
        "colab": {
          "base_uri": "https://localhost:8080/"
        },
        "id": "XbS3ZbRgOcYu",
        "outputId": "b21faf11-044f-4cc1-804f-3806a30dd0f2"
      },
      "outputs": [
        {
          "output_type": "execute_result",
          "data": {
            "text/plain": [
              "['info.txt', 'dataset_personagens']"
            ]
          },
          "metadata": {},
          "execution_count": 60
        }
      ],
      "source": [
        "import zipfile\n",
        "import os\n",
        "\n",
        "# Caminho para o arquivo zip\n",
        "zip_path = \"/content/archive (1).zip\"\n",
        "output_dir = \"/content/imagens\"\n",
        "\n",
        "# Descompactar o arquivo zip\n",
        "with zipfile.ZipFile(zip_path, 'r') as zip_ref:\n",
        "    zip_ref.extractall(output_dir)\n",
        "\n",
        "# Verificar os arquivos extraídos\n",
        "os.listdir(output_dir)\n"
      ]
    },
    {
      "cell_type": "code",
      "source": [
        "import tensorflow as tf\n",
        "print(\"Versão do TensorFlow:\", tf.__version__)"
      ],
      "metadata": {
        "colab": {
          "base_uri": "https://localhost:8080/"
        },
        "id": "GRDuKn_fO_L6",
        "outputId": "daa89ebd-141f-48e8-a988-ce90c24e766a"
      },
      "execution_count": 61,
      "outputs": [
        {
          "output_type": "stream",
          "name": "stdout",
          "text": [
            "Versão do TensorFlow: 2.18.0\n"
          ]
        }
      ]
    },
    {
      "cell_type": "code",
      "source": [
        "import keras as K\n",
        "print(\"Versão do Keras:\", K.__version__)"
      ],
      "metadata": {
        "colab": {
          "base_uri": "https://localhost:8080/"
        },
        "id": "l3zc86cZPLpQ",
        "outputId": "ed0ef4fd-dbd5-47ea-fb1c-fedce6ddbfe6"
      },
      "execution_count": 62,
      "outputs": [
        {
          "output_type": "stream",
          "name": "stdout",
          "text": [
            "Versão do Keras: 3.5.0\n"
          ]
        }
      ]
    },
    {
      "cell_type": "code",
      "source": [
        "# Imports\n",
        "from keras.models import Sequential\n",
        "from keras.layers import Conv2D\n",
        "from keras.layers import MaxPooling2D\n",
        "from keras.layers import Flatten\n",
        "from keras.layers import Dense"
      ],
      "metadata": {
        "id": "lwL__XiwPPcw"
      },
      "execution_count": 64,
      "outputs": []
    },
    {
      "cell_type": "code",
      "source": [
        "# Inicializando a Rede Neural Convolucional\n",
        "classifier = Sequential()"
      ],
      "metadata": {
        "id": "qvC3XUoIPTPg"
      },
      "execution_count": 65,
      "outputs": []
    },
    {
      "cell_type": "code",
      "source": [
        "# Passo 1 - Primeira Camada de Convolução\n",
        "classifier.add(Conv2D(64, (3, 3), input_shape=(64, 64, 3), activation='relu'))  # 64 filtros\n",
        "classifier.add(MaxPooling2D(pool_size=(2, 2)))  # Pooling após a primeira camada"
      ],
      "metadata": {
        "id": "ygT_syIIPXRX"
      },
      "execution_count": 66,
      "outputs": []
    },
    {
      "cell_type": "code",
      "source": [
        "# Passo 2 - Segunda Camada de Convolução\n",
        "classifier.add(Conv2D(64, (3, 3), activation='relu'))\n",
        "classifier.add(MaxPooling2D(pool_size=(2, 2)))  # Pooling após a segunda camada de convolução"
      ],
      "metadata": {
        "id": "uYGitN8OQkdg"
      },
      "execution_count": 67,
      "outputs": []
    },
    {
      "cell_type": "code",
      "source": [
        "# Passo 3 - Flattening\n",
        "classifier.add(Flatten())"
      ],
      "metadata": {
        "id": "gd_GEevHQlW2"
      },
      "execution_count": 68,
      "outputs": []
    },
    {
      "cell_type": "code",
      "source": [
        "# Passo 4 - Full connection\n",
        "classifier.add(Dense(units = 128, activation = 'relu'))\n",
        "classifier.add(Dense(units = 1, activation = 'sigmoid'))"
      ],
      "metadata": {
        "id": "pn-KCLbBQ2wR"
      },
      "execution_count": 69,
      "outputs": []
    },
    {
      "cell_type": "code",
      "source": [
        "# Compilando a rede\n",
        "classifier.compile(optimizer = 'adam', loss = 'binary_crossentropy', metrics = ['accuracy'])"
      ],
      "metadata": {
        "id": "RljRu0fEQ4EV"
      },
      "execution_count": 70,
      "outputs": []
    },
    {
      "cell_type": "markdown",
      "source": [
        "# **Pré Processamento**"
      ],
      "metadata": {
        "id": "qJtbjcuQT8eS"
      }
    },
    {
      "cell_type": "code",
      "source": [
        "from tensorflow.keras.preprocessing.image import ImageDataGenerator\n",
        "\n",
        "\n",
        "train_datagen = ImageDataGenerator(rescale = 1./255,\n",
        "                                   shear_range = 0.2,\n",
        "                                   zoom_range = 0.2,\n",
        "                                   horizontal_flip = True)\n",
        "\n",
        "validation_datagen = ImageDataGenerator(rescale = 1./255)"
      ],
      "metadata": {
        "id": "kH2Q30SLQ6ZJ"
      },
      "execution_count": 71,
      "outputs": []
    },
    {
      "cell_type": "code",
      "source": [
        "training_set = train_datagen.flow_from_directory('/content/imagens/dataset_personagens/dataset_personagens/training_set',\n",
        "                                                 target_size=(64, 64),\n",
        "                                                 batch_size=32,\n",
        "                                                 class_mode='binary')\n",
        "\n",
        "validation_set = validation_datagen.flow_from_directory('/content/imagens/dataset_personagens/dataset_personagens/test_set',\n",
        "                                                        target_size=(64, 64),\n",
        "                                                        batch_size=32,\n",
        "                                                        class_mode='binary')\n"
      ],
      "metadata": {
        "colab": {
          "base_uri": "https://localhost:8080/"
        },
        "id": "PsKqqtDfUvvq",
        "outputId": "3eaf55bc-6880-4c27-e5b0-dbd5f1fe588e"
      },
      "execution_count": 75,
      "outputs": [
        {
          "output_type": "stream",
          "name": "stdout",
          "text": [
            "Found 196 images belonging to 2 classes.\n",
            "Found 73 images belonging to 2 classes.\n"
          ]
        }
      ]
    },
    {
      "cell_type": "markdown",
      "source": [
        "# **Treinamento**"
      ],
      "metadata": {
        "id": "2Kvu_n7nZrrx"
      }
    },
    {
      "cell_type": "code",
      "source": [
        "# Após modificar o modelo, recompilando-o\n",
        "classifier.compile(optimizer='adam', loss='binary_crossentropy', metrics=['accuracy'])\n",
        "\n",
        "# Agora, execute o treinamento\n",
        "classifier.fit(training_set,\n",
        "               steps_per_epoch = 8000,\n",
        "               epochs = 5,\n",
        "               validation_data = validation_set,\n",
        "               validation_steps = 2000)\n"
      ],
      "metadata": {
        "colab": {
          "base_uri": "https://localhost:8080/"
        },
        "id": "ztKB27QjZfqv",
        "outputId": "cfb5629a-aa88-4cf8-8e83-1fcae00a7d0d"
      },
      "execution_count": 77,
      "outputs": [
        {
          "output_type": "stream",
          "name": "stdout",
          "text": [
            "Epoch 1/5\n"
          ]
        },
        {
          "output_type": "stream",
          "name": "stderr",
          "text": [
            "/usr/local/lib/python3.10/dist-packages/keras/src/trainers/data_adapters/py_dataset_adapter.py:122: UserWarning: Your `PyDataset` class should call `super().__init__(**kwargs)` in its constructor. `**kwargs` can include `workers`, `use_multiprocessing`, `max_queue_size`. Do not pass these arguments to `fit()`, as they will be ignored.\n",
            "  self._warn_if_super_not_called()\n"
          ]
        },
        {
          "output_type": "stream",
          "name": "stdout",
          "text": [
            "\u001b[1m   7/8000\u001b[0m \u001b[37m━━━━━━━━━━━━━━━━━━━━\u001b[0m \u001b[1m35:53\u001b[0m 269ms/step - accuracy: 0.5018 - loss: 1.0089"
          ]
        },
        {
          "output_type": "stream",
          "name": "stderr",
          "text": [
            "/usr/lib/python3.10/contextlib.py:153: UserWarning: Your input ran out of data; interrupting training. Make sure that your dataset or generator can generate at least `steps_per_epoch * epochs` batches. You may need to use the `.repeat()` function when building your dataset.\n",
            "  self.gen.throw(typ, value, traceback)\n"
          ]
        },
        {
          "output_type": "stream",
          "name": "stdout",
          "text": [
            "\b\b\b\b\b\b\b\b\b\b\b\b\b\b\b\b\b\b\b\b\b\b\b\b\b\b\b\b\b\b\b\b\b\b\b\b\b\b\b\b\b\b\b\b\b\b\b\b\b\b\b\b\b\b\b\b\b\b\b\b\b\b\b\b\b\b\b\b\b\b\b\b\b\b\b\b\b\b\b\b\b\r\u001b[1m8000/8000\u001b[0m \u001b[32m━━━━━━━━━━━━━━━━━━━━\u001b[0m\u001b[37m\u001b[0m \u001b[1m4s\u001b[0m 265us/step - accuracy: 0.4949 - loss: 0.9242 - val_accuracy: 0.5890 - val_loss: 0.6745\n",
            "Epoch 2/5\n",
            "\u001b[1m8000/8000\u001b[0m \u001b[32m━━━━━━━━━━━━━━━━━━━━\u001b[0m\u001b[37m\u001b[0m \u001b[1m5s\u001b[0m 256us/step - accuracy: 0.6020 - loss: 0.6729 - val_accuracy: 0.5753 - val_loss: 0.6475\n",
            "Epoch 3/5\n",
            "\u001b[1m8000/8000\u001b[0m \u001b[32m━━━━━━━━━━━━━━━━━━━━\u001b[0m\u001b[37m\u001b[0m \u001b[1m2s\u001b[0m 216us/step - accuracy: 0.6581 - loss: 0.6094 - val_accuracy: 0.5753 - val_loss: 0.8053\n",
            "Epoch 4/5\n",
            "\u001b[1m8000/8000\u001b[0m \u001b[32m━━━━━━━━━━━━━━━━━━━━\u001b[0m\u001b[37m\u001b[0m \u001b[1m2s\u001b[0m 221us/step - accuracy: 0.6123 - loss: 0.6571 - val_accuracy: 0.6438 - val_loss: 0.6074\n",
            "Epoch 5/5\n",
            "\u001b[1m8000/8000\u001b[0m \u001b[32m━━━━━━━━━━━━━━━━━━━━\u001b[0m\u001b[37m\u001b[0m \u001b[1m2s\u001b[0m 217us/step - accuracy: 0.6990 - loss: 0.5907 - val_accuracy: 0.6164 - val_loss: 0.5786\n"
          ]
        },
        {
          "output_type": "execute_result",
          "data": {
            "text/plain": [
              "<keras.src.callbacks.history.History at 0x7ca4ae28df00>"
            ]
          },
          "metadata": {},
          "execution_count": 77
        }
      ]
    },
    {
      "cell_type": "markdown",
      "source": [
        "# **Previsões**"
      ],
      "metadata": {
        "id": "VIjJ3jd5bY6q"
      }
    },
    {
      "cell_type": "code",
      "source": [
        "print(training_set.class_indices)"
      ],
      "metadata": {
        "colab": {
          "base_uri": "https://localhost:8080/"
        },
        "id": "CwZyp9lofkfz",
        "outputId": "5dc873a6-4b09-4ed7-931d-ae1a9f206b94"
      },
      "execution_count": 78,
      "outputs": [
        {
          "output_type": "stream",
          "name": "stdout",
          "text": [
            "{'bart': 0, 'homer': 1}\n"
          ]
        }
      ]
    },
    {
      "cell_type": "markdown",
      "source": [
        "Se retorna 0 = bart;\n",
        "Se retorna 1 = Homer"
      ],
      "metadata": {
        "id": "Il2DhTIzfnuf"
      }
    },
    {
      "cell_type": "code",
      "source": [
        "# Teste 01\n",
        "import numpy as np\n",
        "from keras.preprocessing import image\n",
        "from matplotlib import pyplot as plt\n",
        "\n",
        "# Caminho da imagem de teste\n",
        "test_image_path = '/content/imagens/dataset_personagens/dataset_personagens/test_set/bart/bart13.bmp'\n",
        "\n",
        "# Carregar e preprocessar a imagem\n",
        "test_image = image.load_img(test_image_path, target_size=(64, 64))\n",
        "test_image_array = image.img_to_array(test_image)\n",
        "test_image_array = np.expand_dims(test_image_array, axis=0)\n",
        "\n",
        "# Fazer a previsão\n",
        "result = classifier.predict(test_image_array)\n",
        "print(training_set.class_indices)\n",
        "\n",
        "# Ajustar a lógica de previsão para refletir as classes reais\n",
        "if result[0][0] == 1:\n",
        "    prediction = 'Homer'\n",
        "else:\n",
        "    prediction = 'Bart'\n",
        "\n",
        "print(f\"Predição: {prediction}\")\n",
        "\n",
        "# Exibir a imagem usando Matplotlib\n",
        "plt.imshow(test_image)\n",
        "plt.axis('off')\n",
        "plt.title(f\"Predição: {prediction}\")\n",
        "plt.show()\n"
      ],
      "metadata": {
        "colab": {
          "base_uri": "https://localhost:8080/",
          "height": 480
        },
        "id": "PeSI9BQva0Lm",
        "outputId": "e1fac17b-cbfd-4e06-b857-a53f7535b7e3"
      },
      "execution_count": 80,
      "outputs": [
        {
          "output_type": "stream",
          "name": "stdout",
          "text": [
            "\u001b[1m1/1\u001b[0m \u001b[32m━━━━━━━━━━━━━━━━━━━━\u001b[0m\u001b[37m\u001b[0m \u001b[1m0s\u001b[0m 83ms/step\n",
            "{'bart': 0, 'homer': 1}\n",
            "Predição: Bart\n"
          ]
        },
        {
          "output_type": "display_data",
          "data": {
            "text/plain": [
              "<Figure size 640x480 with 1 Axes>"
            ],
            "image/png": "[encoded data removed]"
          },
          "metadata": {}
        }
      ]
    },
    {
      "cell_type": "code",
      "source": [
        "# Teste 02\n",
        "import numpy as np\n",
        "from keras.preprocessing import image\n",
        "from matplotlib import pyplot as plt\n",
        "\n",
        "# Caminho da imagem de teste\n",
        "test_image_path = '/content/imagens/dataset_personagens/dataset_personagens/test_set/homer/homer16.bmp'\n",
        "\n",
        "# Carregar e preprocessar a imagem\n",
        "test_image = image.load_img(test_image_path, target_size=(64, 64))\n",
        "test_image_array = image.img_to_array(test_image)\n",
        "test_image_array = np.expand_dims(test_image_array, axis=0)\n",
        "\n",
        "# Fazer a previsão\n",
        "result = classifier.predict(test_image_array)\n",
        "print(training_set.class_indices)\n",
        "\n",
        "# Ajustar a lógica de previsão para refletir as classes reais\n",
        "if result[0][0] == 1:\n",
        "    prediction = 'Homer'\n",
        "else:\n",
        "    prediction = 'Bart'\n",
        "\n",
        "print(f\"Predição: {prediction}\")\n",
        "\n",
        "# Exibir a imagem usando Matplotlib\n",
        "plt.imshow(test_image)\n",
        "plt.axis('off')\n",
        "plt.title(f\"Predição: {prediction}\")\n",
        "plt.show()\n"
      ],
      "metadata": {
        "colab": {
          "base_uri": "https://localhost:8080/",
          "height": 480
        },
        "id": "YtaO5gFNblJH",
        "outputId": "beee89b6-b265-4796-e587-71c6d964fbf1"
      },
      "execution_count": 83,
      "outputs": [
        {
          "output_type": "stream",
          "name": "stdout",
          "text": [
            "\u001b[1m1/1\u001b[0m \u001b[32m━━━━━━━━━━━━━━━━━━━━\u001b[0m\u001b[37m\u001b[0m \u001b[1m0s\u001b[0m 24ms/step\n",
            "{'bart': 0, 'homer': 1}\n",
            "Predição: Homer\n"
          ]
        },
        {
          "output_type": "display_data",
          "data": {
            "text/plain": [
              "<Figure size 640x480 with 1 Axes>"
            ],
            "image/png": "[encoded data removed]"
          },
          "metadata": {}
        }
      ]
    },
    {
      "cell_type": "code",
      "source": [
        "# Teste 03\n",
        "import numpy as np\n",
        "from keras.preprocessing import image\n",
        "from matplotlib import pyplot as plt\n",
        "\n",
        "# Caminho da imagem de teste\n",
        "test_image_path = '/content/imagens/dataset_personagens/dataset_personagens/test_set/homer/homer8.bmp'\n",
        "\n",
        "# Carregar e preprocessar a imagem\n",
        "test_image = image.load_img(test_image_path, target_size=(64, 64))\n",
        "test_image_array = image.img_to_array(test_image)\n",
        "test_image_array = np.expand_dims(test_image_array, axis=0)\n",
        "\n",
        "# Fazer a previsão\n",
        "result = classifier.predict(test_image_array)\n",
        "print(training_set.class_indices)\n",
        "\n",
        "# Ajustar a lógica de previsão para refletir as classes reais\n",
        "if result[0][0] == 1:\n",
        "    prediction = 'Homer'\n",
        "else:\n",
        "    prediction = 'Bart'\n",
        "\n",
        "print(f\"Predição: {prediction}\")\n",
        "\n",
        "# Exibir a imagem usando Matplotlib\n",
        "plt.imshow(test_image)\n",
        "plt.axis('off')\n",
        "plt.title(f\"Predição: {prediction}\")\n",
        "plt.show()\n"
      ],
      "metadata": {
        "colab": {
          "base_uri": "https://localhost:8080/",
          "height": 480
        },
        "id": "Lky907HDfVNs",
        "outputId": "e886f906-184e-4470-9fa5-999b5705d09f"
      },
      "execution_count": 84,
      "outputs": [
        {
          "output_type": "stream",
          "name": "stdout",
          "text": [
            "\u001b[1m1/1\u001b[0m \u001b[32m━━━━━━━━━━━━━━━━━━━━\u001b[0m\u001b[37m\u001b[0m \u001b[1m0s\u001b[0m 24ms/step\n",
            "{'bart': 0, 'homer': 1}\n",
            "Predição: Bart\n"
          ]
        },
        {
          "output_type": "display_data",
          "data": {
            "text/plain": [
              "<Figure size 640x480 with 1 Axes>"
            ],
            "image/png": "[encoded data removed]"
          },
          "metadata": {}
        }
      ]
    },
    {
      "cell_type": "markdown",
      "source": [
        "Obteve erro na previsão"
      ],
      "metadata": {
        "id": "BvWFahr5kf4u"
      }
    },
    {
      "cell_type": "code",
      "source": [
        "# Teste 03\n",
        "import numpy as np\n",
        "from keras.preprocessing import image\n",
        "from matplotlib import pyplot as plt\n",
        "\n",
        "# Caminho da imagem de teste\n",
        "test_image_path = '/content/imagens/dataset_personagens/dataset_personagens/test_set/bart/bart24.bmp'\n",
        "\n",
        "# Carregar e preprocessar a imagem\n",
        "test_image = image.load_img(test_image_path, target_size=(64, 64))\n",
        "test_image_array = image.img_to_array(test_image)\n",
        "test_image_array = np.expand_dims(test_image_array, axis=0)\n",
        "\n",
        "# Fazer a previsão\n",
        "result = classifier.predict(test_image_array)\n",
        "print(training_set.class_indices)\n",
        "\n",
        "# Ajustar a lógica de previsão para refletir as classes reais\n",
        "if result[0][0] == 1:\n",
        "    prediction = 'Homer'\n",
        "else:\n",
        "    prediction = 'Bart'\n",
        "\n",
        "print(f\"Predição: {prediction}\")\n",
        "\n",
        "# Exibir a imagem usando Matplotlib\n",
        "plt.imshow(test_image)\n",
        "plt.axis('off')\n",
        "plt.title(f\"Predição: {prediction}\")\n",
        "plt.show()"
      ],
      "metadata": {
        "colab": {
          "base_uri": "https://localhost:8080/",
          "height": 480
        },
        "id": "Ncnwmm78kOaf",
        "outputId": "c9d33ae5-3a8f-4857-d0f5-382f03534bd4"
      },
      "execution_count": 86,
      "outputs": [
        {
          "output_type": "stream",
          "name": "stdout",
          "text": [
            "\u001b[1m1/1\u001b[0m \u001b[32m━━━━━━━━━━━━━━━━━━━━\u001b[0m\u001b[37m\u001b[0m \u001b[1m0s\u001b[0m 41ms/step\n",
            "{'bart': 0, 'homer': 1}\n",
            "Predição: Bart\n"
          ]
        },
        {
          "output_type": "display_data",
          "data": {
            "text/plain": [
              "<Figure size 640x480 with 1 Axes>"
            ],
            "image/png": "[encoded data removed]"
          },
          "metadata": {}
        }
      ]
    },
    {
      "cell_type": "code",
      "source": [
        "# Teste 03\n",
        "import numpy as np\n",
        "from keras.preprocessing import image\n",
        "from matplotlib import pyplot as plt\n",
        "\n",
        "# Caminho da imagem de teste\n",
        "test_image_path = '/content/imagens/dataset_personagens/dataset_personagens/test_set/bart/bart8.bmp'\n",
        "\n",
        "# Carregar e preprocessar a imagem\n",
        "test_image = image.load_img(test_image_path, target_size=(64, 64))\n",
        "test_image_array = image.img_to_array(test_image)\n",
        "test_image_array = np.expand_dims(test_image_array, axis=0)\n",
        "\n",
        "# Fazer a previsão\n",
        "result = classifier.predict(test_image_array)\n",
        "print(training_set.class_indices)\n",
        "\n",
        "# Ajustar a lógica de previsão para refletir as classes reais\n",
        "if result[0][0] == 1:\n",
        "    prediction = 'Homer'\n",
        "else:\n",
        "    prediction = 'Bart'\n",
        "\n",
        "print(f\"Predição: {prediction}\")\n",
        "\n",
        "# Exibir a imagem usando Matplotlib\n",
        "plt.imshow(test_image)\n",
        "plt.axis('off')\n",
        "plt.title(f\"Predição: {prediction}\")\n",
        "plt.show()"
      ],
      "metadata": {
        "colab": {
          "base_uri": "https://localhost:8080/",
          "height": 480
        },
        "id": "ydOqO46Lkj-o",
        "outputId": "e4bc73ee-58de-43a8-895f-4e8d3aadf3d4"
      },
      "execution_count": 87,
      "outputs": [
        {
          "output_type": "stream",
          "name": "stdout",
          "text": [
            "\u001b[1m1/1\u001b[0m \u001b[32m━━━━━━━━━━━━━━━━━━━━\u001b[0m\u001b[37m\u001b[0m \u001b[1m0s\u001b[0m 53ms/step\n",
            "{'bart': 0, 'homer': 1}\n",
            "Predição: Bart\n"
          ]
        },
        {
          "output_type": "display_data",
          "data": {
            "text/plain": [
              "<Figure size 640x480 with 1 Axes>"
            ],
            "image/png": "[encoded data removed]"
          },
          "metadata": {}
        }
      ]
    },
    {
      "cell_type": "code",
      "source": [],
      "metadata": {
        "id": "fZFJKkTUk6P0"
      },
      "execution_count": null,
      "outputs": []
    }
  ]
}